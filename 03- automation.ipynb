{
 "cells": [
  {
   "cell_type": "code",
   "execution_count": 1,
   "id": "97ce4364",
   "metadata": {},
   "outputs": [],
   "source": [
    "import os\n",
    "dir(os)\n",
    "lst = os.listdir()\n",
    "name = (\"ay haga.csv\")\n",
    "if name in lst:\n",
    "    os.rename(name, \"./outputs/ay haga.csv\")"
   ]
  },
  {
   "cell_type": "code",
   "execution_count": 2,
   "id": "9a19e84d",
   "metadata": {},
   "outputs": [
    {
     "data": {
      "text/plain": [
       "['.ipynb_checkpoints',\n",
       " '00- exploring the data.ipynb',\n",
       " '01- extraction of data.ipynb',\n",
       " '03-visulaization.ipynb',\n",
       " '04- automation.ipynb',\n",
       " 'ay haga',\n",
       " 'ay hagaaa.csv',\n",
       " 'Data_Engineer_task.docx.pdf',\n",
       " 'ETL.py',\n",
       " 'outputs',\n",
       " 'tagaddod-d8ffe--MsZkGFSCtYxntenMuVF-export.csv',\n",
       " 'tagaddod-d8ffe--MsZkGFSCtYxntenMuVF-export.json',\n",
       " 'tagaddod-d8ffe--MsZkGFSCtYxntenMuVF-export.json.csv',\n",
       " 'tagaddod-d8ffe--MszT9RZtTjcM5PwTCBH-export.csv',\n",
       " 'tagaddod-d8ffe--MszT9RZtTjcM5PwTCBH-export.json',\n",
       " 'tagaddod-d8ffe--MwWeqpG3yuQD7G2wcp8-export.csv',\n",
       " 'tagaddod-d8ffe--MwWeqpG3yuQD7G2wcp8-export.json',\n",
       " 'tagaddod-d8ffe--N4SUsENXI1OF1qf8VxT-export.csv',\n",
       " 'tagaddod-d8ffe--N4SUsENXI1OF1qf8VxT-export.json',\n",
       " 'Tagaddod_Intro_Talent_Acquisition.pdf',\n",
       " '__pycache__']"
      ]
     },
     "execution_count": 2,
     "metadata": {},
     "output_type": "execute_result"
    }
   ],
   "source": [
    "lst = os.listdir()\n",
    "lst"
   ]
  },
  {
   "cell_type": "code",
   "execution_count": null,
   "id": "ad6e028d",
   "metadata": {},
   "outputs": [],
   "source": [
    "import os \n",
    "from ETL import ETL_pipeline\n",
    "\n",
    "name = 'tagaddod-d8ffe--MsZkGFSCtYxntenMuVF-export.json'\n",
    "df = ETL_pipeline(name)\n",
    "name_without_json = name.split('.')[0] ## to get the name without json \n",
    "df.to_csv(name_without_json+'.csv',index = False)\n",
    "    \n",
    "    \n",
    "#ETL_pipeline(path = 'tagaddod-d8ffe--MsZkGFSCtYxntenMuVF-export.json')\n",
    "#command = 'python ETL.py ' + '--in_path ' + name\n",
    "#os.system(command)"
   ]
  },
  {
   "cell_type": "code",
   "execution_count": 18,
   "id": "ba9e68c7",
   "metadata": {},
   "outputs": [],
   "source": [
    "import re\n",
    "from ETL import ETL_pipeline\n",
    "lst = os.listdir()\n",
    "OUT_DIR = 'processed'\n",
    "for name in lst:\n",
    "    string_pattern = '\\.json'\n",
    "    regex_pattern = re.compile(string_pattern)\n",
    "    result = regex_pattern.findall(name)\n",
    "    if len(result)!=0:\n",
    "        print(name)\n",
    "        ##.json exists\n",
    "        ##call etl file\n",
    "        ## if success remove the json\n",
    "        df = ETL_pipeline(name)\n",
    "        name_without_json = name.split('.')[0] ## to get the name without json \n",
    "        df.to_csv(name_without_json+'.csv',index = False)\n",
    "        \n",
    "        ## move the file to processed folder:\n",
    "        if not os.path.isdir(OUT_DIR):\n",
    "            os.mkdir(OUT_DIR)\n",
    "        os.rename(name , OUT_DIR+'/'+name_without_json + '_processed.json')"
   ]
  }
 ],
 "metadata": {
  "kernelspec": {
   "display_name": "Python 3",
   "language": "python",
   "name": "python3"
  },
  "language_info": {
   "codemirror_mode": {
    "name": "ipython",
    "version": 3
   },
   "file_extension": ".py",
   "mimetype": "text/x-python",
   "name": "python",
   "nbconvert_exporter": "python",
   "pygments_lexer": "ipython3",
   "version": "3.8.8"
  }
 },
 "nbformat": 4,
 "nbformat_minor": 5
}
