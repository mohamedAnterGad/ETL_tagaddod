{
 "cells": [
  {
   "cell_type": "markdown",
   "id": "dbc0838d",
   "metadata": {},
   "source": [
    "### comments and exploring the data\n",
    "in this document 'tagaddod-d8ffe--MsZkGFSCtYxntenMuVF-export.json'\n",
    "- there is no collector id in some records\n",
    "- all records has no 'meta data' field except for one record\n",
    "- destination request id is not available in all records\n",
    "- at the end there is a record with name 'meta-data' that has only the collector id for all columns\n",
    "- NAN is not included in the count but 'nan' is included !!\n",
    "- collector id is the same in each file\n",
    "- two devices or three for each collector\n",
    "- destination request id is around 12 but sometimes 156\n",
    "- \\# of records are around 1700,2000,84 and 18,000"
   ]
  },
  {
   "cell_type": "code",
   "execution_count": 1,
   "id": "9a8bc9ec",
   "metadata": {},
   "outputs": [],
   "source": [
    "import numpy as np\n",
    "import pandas as pd\n",
    "import matplotlib.pyplot as plt"
   ]
  },
  {
   "cell_type": "code",
   "execution_count": 2,
   "id": "e59934b0",
   "metadata": {},
   "outputs": [
    {
     "data": {
      "text/html": [
       "<div>\n",
       "<style scoped>\n",
       "    .dataframe tbody tr th:only-of-type {\n",
       "        vertical-align: middle;\n",
       "    }\n",
       "\n",
       "    .dataframe tbody tr th {\n",
       "        vertical-align: top;\n",
       "    }\n",
       "\n",
       "    .dataframe thead th {\n",
       "        text-align: right;\n",
       "    }\n",
       "</style>\n",
       "<table border=\"1\" class=\"dataframe\">\n",
       "  <thead>\n",
       "    <tr style=\"text-align: right;\">\n",
       "      <th></th>\n",
       "      <th>device_id</th>\n",
       "      <th>latitude</th>\n",
       "      <th>longitude</th>\n",
       "      <th>snapshot_datetime</th>\n",
       "      <th>meta-data</th>\n",
       "      <th>collector_id</th>\n",
       "      <th>destination_request_id</th>\n",
       "    </tr>\n",
       "  </thead>\n",
       "  <tbody>\n",
       "    <tr>\n",
       "      <th>-MseZ2fAZ1SjLMaYOXy2</th>\n",
       "      <td>fe175d9955fced88</td>\n",
       "      <td>30.042313</td>\n",
       "      <td>31.33642</td>\n",
       "      <td>2022-01-05 16:06:42.373120</td>\n",
       "      <td>NaN</td>\n",
       "      <td>NaN</td>\n",
       "      <td>NaN</td>\n",
       "    </tr>\n",
       "    <tr>\n",
       "      <th>-MseZ3tJG5FeQy7OEB6H</th>\n",
       "      <td>fe175d9955fced88</td>\n",
       "      <td>30.042313</td>\n",
       "      <td>31.33642</td>\n",
       "      <td>2022-01-05 16:06:47.379586</td>\n",
       "      <td>NaN</td>\n",
       "      <td>NaN</td>\n",
       "      <td>NaN</td>\n",
       "    </tr>\n",
       "    <tr>\n",
       "      <th>-MseZ57uwVY_hYJ_G8nF</th>\n",
       "      <td>fe175d9955fced88</td>\n",
       "      <td>30.042313</td>\n",
       "      <td>31.33642</td>\n",
       "      <td>2022-01-05 16:06:52.473970</td>\n",
       "      <td>NaN</td>\n",
       "      <td>NaN</td>\n",
       "      <td>NaN</td>\n",
       "    </tr>\n",
       "    <tr>\n",
       "      <th>-MseZ6JS8eUMGMr-6cF0</th>\n",
       "      <td>fe175d9955fced88</td>\n",
       "      <td>30.042313</td>\n",
       "      <td>31.33642</td>\n",
       "      <td>2022-01-05 16:06:57.308858</td>\n",
       "      <td>NaN</td>\n",
       "      <td>NaN</td>\n",
       "      <td>NaN</td>\n",
       "    </tr>\n",
       "    <tr>\n",
       "      <th>-MseZ7XzNXS16vXvrVYO</th>\n",
       "      <td>fe175d9955fced88</td>\n",
       "      <td>30.042313</td>\n",
       "      <td>31.33642</td>\n",
       "      <td>2022-01-05 16:07:02.335482</td>\n",
       "      <td>NaN</td>\n",
       "      <td>NaN</td>\n",
       "      <td>NaN</td>\n",
       "    </tr>\n",
       "  </tbody>\n",
       "</table>\n",
       "</div>"
      ],
      "text/plain": [
       "                             device_id   latitude longitude  \\\n",
       "-MseZ2fAZ1SjLMaYOXy2  fe175d9955fced88  30.042313  31.33642   \n",
       "-MseZ3tJG5FeQy7OEB6H  fe175d9955fced88  30.042313  31.33642   \n",
       "-MseZ57uwVY_hYJ_G8nF  fe175d9955fced88  30.042313  31.33642   \n",
       "-MseZ6JS8eUMGMr-6cF0  fe175d9955fced88  30.042313  31.33642   \n",
       "-MseZ7XzNXS16vXvrVYO  fe175d9955fced88  30.042313  31.33642   \n",
       "\n",
       "                               snapshot_datetime meta-data collector_id  \\\n",
       "-MseZ2fAZ1SjLMaYOXy2  2022-01-05 16:06:42.373120       NaN          NaN   \n",
       "-MseZ3tJG5FeQy7OEB6H  2022-01-05 16:06:47.379586       NaN          NaN   \n",
       "-MseZ57uwVY_hYJ_G8nF  2022-01-05 16:06:52.473970       NaN          NaN   \n",
       "-MseZ6JS8eUMGMr-6cF0  2022-01-05 16:06:57.308858       NaN          NaN   \n",
       "-MseZ7XzNXS16vXvrVYO  2022-01-05 16:07:02.335482       NaN          NaN   \n",
       "\n",
       "                     destination_request_id  \n",
       "-MseZ2fAZ1SjLMaYOXy2                    NaN  \n",
       "-MseZ3tJG5FeQy7OEB6H                    NaN  \n",
       "-MseZ57uwVY_hYJ_G8nF                    NaN  \n",
       "-MseZ6JS8eUMGMr-6cF0                    NaN  \n",
       "-MseZ7XzNXS16vXvrVYO                    NaN  "
      ]
     },
     "execution_count": 2,
     "metadata": {},
     "output_type": "execute_result"
    }
   ],
   "source": [
    "df = pd.read_json(\"tagaddod-d8ffe--MsZkGFSCtYxntenMuVF-export.json\") \n",
    "df = df.T ## to edit the format\n",
    "df.head()"
   ]
  },
  {
   "cell_type": "code",
   "execution_count": 3,
   "id": "3515465a",
   "metadata": {},
   "outputs": [
    {
     "data": {
      "text/plain": [
       "(2136, 7)"
      ]
     },
     "execution_count": 3,
     "metadata": {},
     "output_type": "execute_result"
    }
   ],
   "source": [
    "df.shape"
   ]
  },
  {
   "cell_type": "code",
   "execution_count": 4,
   "id": "f5017b37",
   "metadata": {},
   "outputs": [
    {
     "data": {
      "text/plain": [
       "device_id                  NaN\n",
       "latitude                   NaN\n",
       "longitude                  NaN\n",
       "snapshot_datetime          NaN\n",
       "meta-data                  NaN\n",
       "collector_id              51.0\n",
       "destination_request_id     NaN\n",
       "Name: meta-data, dtype: object"
      ]
     },
     "execution_count": 4,
     "metadata": {},
     "output_type": "execute_result"
    }
   ],
   "source": [
    "df.loc['meta-data',:]"
   ]
  },
  {
   "cell_type": "code",
   "execution_count": 5,
   "id": "c6263eaf",
   "metadata": {
    "scrolled": true
   },
   "outputs": [
    {
     "data": {
      "text/plain": [
       "{'device_id': 'b8e1d679ea29c711',\n",
       " 'latitude': '27.21240209613208',\n",
       " 'longitude': '31.160887526671843',\n",
       " 'snapshot_datetime': '2022-01-11 07:36:37'}"
      ]
     },
     "execution_count": 5,
     "metadata": {},
     "output_type": "execute_result"
    }
   ],
   "source": [
    "df.loc['-Mt73Jj0QRoPye_E3pGY',:]['meta-data']"
   ]
  },
  {
   "cell_type": "markdown",
   "id": "8943bfb4",
   "metadata": {},
   "source": [
    "#### len of unique values in each column"
   ]
  },
  {
   "cell_type": "code",
   "execution_count": 9,
   "id": "5f80ae93",
   "metadata": {},
   "outputs": [
    {
     "name": "stdout",
     "output_type": "stream",
     "text": [
      "len of snapshot date time is  2135\n",
      "len of destination_request_id is  12\n",
      "len of device_id is  4\n",
      "len of latitude is  790\n",
      "len of longitude is  784\n",
      "len of collector_id is  3\n"
     ]
    }
   ],
   "source": [
    "print('len of snapshot date time is ', len(df['snapshot_datetime'].unique()) ) ## this is the primary key for each record\n",
    "print('len of destination_request_id is ', len(df['destination_request_id'].unique()) ) \n",
    "print('len of device_id is ', len(df['device_id'].unique()) ) \n",
    "print('len of latitude is ', len(df['latitude'].unique()) ) \n",
    "print('len of longitude is ', len(df['longitude'].unique()) ) \n",
    "print('len of collector_id is ', len(df['collector_id'].unique()) )  ## 3 values but actually they are 51,51.0 and N/A\n"
   ]
  },
  {
   "cell_type": "markdown",
   "id": "2748c989",
   "metadata": {},
   "source": [
    "#### unique values and histogram"
   ]
  },
  {
   "cell_type": "code",
   "execution_count": 10,
   "id": "6a92771a",
   "metadata": {},
   "outputs": [
    {
     "name": "stdout",
     "output_type": "stream",
     "text": [
      "['fe175d9955fced88' 'b8e1d679ea29c711' nan 'N/A']\n",
      "[nan '3309' '7470' '1696' '3199' '1851' '7544' '1472' '3198' '7412' '7385'\n",
      " '7452']\n",
      "[nan '51' 51.0]\n",
      "['2022-01-05 16:06:42.373120' '2022-01-05 16:06:47.379586'\n",
      " '2022-01-05 16:06:52.473970' ... '2022-01-17 14:33:10.192465'\n",
      " '2022-01-17 14:33:16.780540' '2022-01-17 14:33:20.137822']\n"
     ]
    }
   ],
   "source": [
    "print(df['device_id'].unique()) ## two devices and some nans and N/A\n",
    "print(df['destination_request_id'].unique()) ## 11 values and nans\n",
    "print(df['collector_id'].unique()) ## one value and nans \n",
    "print(df['snapshot_datetime'].unique()) ## nan is included in the count"
   ]
  },
  {
   "cell_type": "code",
   "execution_count": 11,
   "id": "3c7c090d",
   "metadata": {},
   "outputs": [
    {
     "data": {
      "image/png": "[encoded data removed]",
      "text/plain": [
       "<Figure size 432x288 with 1 Axes>"
      ]
     },
     "metadata": {
      "needs_background": "light"
     },
     "output_type": "display_data"
    },
    {
     "data": {
      "image/png": "[encoded data removed]",
      "text/plain": [
       "<Figure size 432x288 with 1 Axes>"
      ]
     },
     "metadata": {
      "needs_background": "light"
     },
     "output_type": "display_data"
    }
   ],
   "source": [
    "df['device_id'].hist()\n",
    "plt.show()\n",
    "df['destination_request_id'].hist(bins=50) ##more like a normal distribution\n",
    "plt.show()\n"
   ]
  },
  {
   "cell_type": "markdown",
   "id": "ffb43865",
   "metadata": {},
   "source": [
    "## exploring the second file"
   ]
  },
  {
   "cell_type": "code",
   "execution_count": 12,
   "id": "1e964370",
   "metadata": {},
   "outputs": [
    {
     "data": {
      "text/html": [
       "<div>\n",
       "<style scoped>\n",
       "    .dataframe tbody tr th:only-of-type {\n",
       "        vertical-align: middle;\n",
       "    }\n",
       "\n",
       "    .dataframe tbody tr th {\n",
       "        vertical-align: top;\n",
       "    }\n",
       "\n",
       "    .dataframe thead th {\n",
       "        text-align: right;\n",
       "    }\n",
       "</style>\n",
       "<table border=\"1\" class=\"dataframe\">\n",
       "  <thead>\n",
       "    <tr style=\"text-align: right;\">\n",
       "      <th></th>\n",
       "      <th>collector_id</th>\n",
       "      <th>device_id</th>\n",
       "      <th>latitude</th>\n",
       "      <th>longitude</th>\n",
       "      <th>snapshot_datetime</th>\n",
       "      <th>destination_request_id</th>\n",
       "    </tr>\n",
       "  </thead>\n",
       "  <tbody>\n",
       "    <tr>\n",
       "      <th>-Mu1Ke3YXnTlv_8zTedq</th>\n",
       "      <td>99</td>\n",
       "      <td>a5f55343f48cf3b2</td>\n",
       "      <td>30.915783</td>\n",
       "      <td>30.299763</td>\n",
       "      <td>2022-01-22 17:10:22.499088</td>\n",
       "      <td>NaN</td>\n",
       "    </tr>\n",
       "    <tr>\n",
       "      <th>-Mu1KfCkHPhyBE-_P9_y</th>\n",
       "      <td>99</td>\n",
       "      <td>a5f55343f48cf3b2</td>\n",
       "      <td>30.915783</td>\n",
       "      <td>30.299763</td>\n",
       "      <td>2022-01-22 17:10:27.184939</td>\n",
       "      <td>NaN</td>\n",
       "    </tr>\n",
       "    <tr>\n",
       "      <th>-Mu1KgR2hK2WOQDXF6d1</th>\n",
       "      <td>99</td>\n",
       "      <td>a5f55343f48cf3b2</td>\n",
       "      <td>30.915275</td>\n",
       "      <td>30.300481</td>\n",
       "      <td>2022-01-22 17:10:32.195519</td>\n",
       "      <td>NaN</td>\n",
       "    </tr>\n",
       "    <tr>\n",
       "      <th>-Mu1KheX3sUPsJ_26x0F</th>\n",
       "      <td>99</td>\n",
       "      <td>a5f55343f48cf3b2</td>\n",
       "      <td>30.915274</td>\n",
       "      <td>30.300482</td>\n",
       "      <td>2022-01-22 17:10:37.218805</td>\n",
       "      <td>NaN</td>\n",
       "    </tr>\n",
       "    <tr>\n",
       "      <th>-Mu1KisXMKQhSuocFh8c</th>\n",
       "      <td>99</td>\n",
       "      <td>a5f55343f48cf3b2</td>\n",
       "      <td>30.915278</td>\n",
       "      <td>30.300476</td>\n",
       "      <td>2022-01-22 17:10:42.210450</td>\n",
       "      <td>NaN</td>\n",
       "    </tr>\n",
       "  </tbody>\n",
       "</table>\n",
       "</div>"
      ],
      "text/plain": [
       "                     collector_id         device_id   latitude  longitude  \\\n",
       "-Mu1Ke3YXnTlv_8zTedq           99  a5f55343f48cf3b2  30.915783  30.299763   \n",
       "-Mu1KfCkHPhyBE-_P9_y           99  a5f55343f48cf3b2  30.915783  30.299763   \n",
       "-Mu1KgR2hK2WOQDXF6d1           99  a5f55343f48cf3b2  30.915275  30.300481   \n",
       "-Mu1KheX3sUPsJ_26x0F           99  a5f55343f48cf3b2  30.915274  30.300482   \n",
       "-Mu1KisXMKQhSuocFh8c           99  a5f55343f48cf3b2  30.915278  30.300476   \n",
       "\n",
       "                               snapshot_datetime destination_request_id  \n",
       "-Mu1Ke3YXnTlv_8zTedq  2022-01-22 17:10:22.499088                    NaN  \n",
       "-Mu1KfCkHPhyBE-_P9_y  2022-01-22 17:10:27.184939                    NaN  \n",
       "-Mu1KgR2hK2WOQDXF6d1  2022-01-22 17:10:32.195519                    NaN  \n",
       "-Mu1KheX3sUPsJ_26x0F  2022-01-22 17:10:37.218805                    NaN  \n",
       "-Mu1KisXMKQhSuocFh8c  2022-01-22 17:10:42.210450                    NaN  "
      ]
     },
     "execution_count": 12,
     "metadata": {},
     "output_type": "execute_result"
    }
   ],
   "source": [
    "df2 = pd.read_json(\"tagaddod-d8ffe--MszT9RZtTjcM5PwTCBH-export.json\") \n",
    "df2 = df2.T ## to edit the format\n",
    "df2.head()"
   ]
  },
  {
   "cell_type": "code",
   "execution_count": 13,
   "id": "0e2ad595",
   "metadata": {},
   "outputs": [
    {
     "data": {
      "text/plain": [
       "(18248, 6)"
      ]
     },
     "execution_count": 13,
     "metadata": {},
     "output_type": "execute_result"
    }
   ],
   "source": [
    "df2.shape"
   ]
  },
  {
   "cell_type": "code",
   "execution_count": 14,
   "id": "4f351686",
   "metadata": {},
   "outputs": [
    {
     "data": {
      "text/plain": [
       "collector_id              99.0\n",
       "device_id                  NaN\n",
       "latitude                   NaN\n",
       "longitude                  NaN\n",
       "snapshot_datetime          NaN\n",
       "destination_request_id     NaN\n",
       "Name: meta-data, dtype: object"
      ]
     },
     "execution_count": 14,
     "metadata": {},
     "output_type": "execute_result"
    }
   ],
   "source": [
    "df2.loc['meta-data',:]"
   ]
  },
  {
   "cell_type": "code",
   "execution_count": 15,
   "id": "f9876aa4",
   "metadata": {},
   "outputs": [
    {
     "data": {
      "text/plain": [
       "18248"
      ]
     },
     "execution_count": 15,
     "metadata": {},
     "output_type": "execute_result"
    }
   ],
   "source": [
    "len(df2.index.unique())"
   ]
  },
  {
   "cell_type": "code",
   "execution_count": 16,
   "id": "2129a7ec",
   "metadata": {},
   "outputs": [
    {
     "name": "stdout",
     "output_type": "stream",
     "text": [
      "len of snapshot date time is  18248\n",
      "len of destination_request_id is  156\n",
      "len of device_id is  4\n",
      "len of latitude is  8299\n",
      "len of longitude is  8132\n",
      "len of collector_id is  2\n"
     ]
    }
   ],
   "source": [
    "print('len of snapshot date time is ', len(df2['snapshot_datetime'].unique()) ) ## this is the primary key for each record\n",
    "print('len of destination_request_id is ', len(df2['destination_request_id'].unique()) ) \n",
    "print('len of device_id is ', len(df2['device_id'].unique()) ) \n",
    "print('len of latitude is ', len(df2['latitude'].unique()) ) \n",
    "print('len of longitude is ', len(df2['longitude'].unique()) ) \n",
    "print('len of collector_id is ', len(df2['collector_id'].unique()) )  ## 3 values but actually they are 51,51.0 and N/A\n"
   ]
  },
  {
   "cell_type": "code",
   "execution_count": 38,
   "id": "e2f531e3",
   "metadata": {},
   "outputs": [
    {
     "name": "stdout",
     "output_type": "stream",
     "text": [
      "['a5f55343f48cf3b2' '96ddc11dcb259ebd' '3967850978244b31' nan]\n",
      "['99' 99.0]\n",
      "['2022-01-22 17:10:22.499088' '2022-01-22 17:10:27.184939'\n",
      " '2022-01-22 17:10:32.195519' ... '2022-04-05 21:50:53.747493'\n",
      " '2022-04-05 21:50:58.092109' nan]\n"
     ]
    }
   ],
   "source": [
    "print(df2['device_id'].unique()) ## three devices and some nans and N/A\n",
    "#print(df2['destination_request_id'].unique()) ## 156 values and nans\n",
    "print(df2['collector_id'].unique()) ## one value and nans \n",
    "print(df2['snapshot_datetime'].unique()) ## nan is included in the count"
   ]
  },
  {
   "cell_type": "code",
   "execution_count": 17,
   "id": "722e0d42",
   "metadata": {},
   "outputs": [
    {
     "data": {
      "text/plain": [
       "array(['2022-01-22 17:10:22.499088', '2022-01-22 17:10:27.184939',\n",
       "       '2022-01-22 17:10:32.195519', ..., '2022-04-05 21:50:53.747493',\n",
       "       '2022-04-05 21:50:58.092109', nan], dtype=object)"
      ]
     },
     "execution_count": 17,
     "metadata": {},
     "output_type": "execute_result"
    }
   ],
   "source": [
    "(df2['snapshot_datetime'].unique())"
   ]
  },
  {
   "cell_type": "markdown",
   "id": "ffb2660d",
   "metadata": {},
   "source": [
    "## third and forth files"
   ]
  },
  {
   "cell_type": "code",
   "execution_count": 18,
   "id": "7f646612",
   "metadata": {},
   "outputs": [
    {
     "data": {
      "text/html": [
       "<div>\n",
       "<style scoped>\n",
       "    .dataframe tbody tr th:only-of-type {\n",
       "        vertical-align: middle;\n",
       "    }\n",
       "\n",
       "    .dataframe tbody tr th {\n",
       "        vertical-align: top;\n",
       "    }\n",
       "\n",
       "    .dataframe thead th {\n",
       "        text-align: right;\n",
       "    }\n",
       "</style>\n",
       "<table border=\"1\" class=\"dataframe\">\n",
       "  <thead>\n",
       "    <tr style=\"text-align: right;\">\n",
       "      <th></th>\n",
       "      <th>collector_id</th>\n",
       "      <th>device_id</th>\n",
       "      <th>latitude</th>\n",
       "      <th>longitude</th>\n",
       "      <th>snapshot_datetime</th>\n",
       "      <th>destination_request_id</th>\n",
       "    </tr>\n",
       "  </thead>\n",
       "  <tbody>\n",
       "    <tr>\n",
       "      <th>-MwWgmIKz8ZLI-S3HtAp</th>\n",
       "      <td>157</td>\n",
       "      <td>0891846aad4e869e</td>\n",
       "      <td>29.952633</td>\n",
       "      <td>30.888284</td>\n",
       "      <td>2022-02-22 15:51:02.869005</td>\n",
       "      <td>NaN</td>\n",
       "    </tr>\n",
       "    <tr>\n",
       "      <th>-MwWgmyb-JvddB_4D41K</th>\n",
       "      <td>157</td>\n",
       "      <td>0891846aad4e869e</td>\n",
       "      <td>29.952633</td>\n",
       "      <td>30.888284</td>\n",
       "      <td>2022-02-22 15:51:05.639681</td>\n",
       "      <td>NaN</td>\n",
       "    </tr>\n",
       "    <tr>\n",
       "      <th>-MwWgoX1YBF7jLDYPzHj</th>\n",
       "      <td>157</td>\n",
       "      <td>0891846aad4e869e</td>\n",
       "      <td>29.952638</td>\n",
       "      <td>30.888283</td>\n",
       "      <td>2022-02-22 15:51:12.002744</td>\n",
       "      <td>NaN</td>\n",
       "    </tr>\n",
       "    <tr>\n",
       "      <th>-MwWgpLvpj_9XZK1rza7</th>\n",
       "      <td>157</td>\n",
       "      <td>0891846aad4e869e</td>\n",
       "      <td>29.952638</td>\n",
       "      <td>30.888283</td>\n",
       "      <td>2022-02-22 15:51:15.387694</td>\n",
       "      <td>NaN</td>\n",
       "    </tr>\n",
       "    <tr>\n",
       "      <th>-MwWgqwJCVqXiZnRyYxK</th>\n",
       "      <td>157</td>\n",
       "      <td>0891846aad4e869e</td>\n",
       "      <td>29.952642</td>\n",
       "      <td>30.888282</td>\n",
       "      <td>2022-02-22 15:51:21.876488</td>\n",
       "      <td>NaN</td>\n",
       "    </tr>\n",
       "  </tbody>\n",
       "</table>\n",
       "</div>"
      ],
      "text/plain": [
       "                     collector_id         device_id   latitude  longitude  \\\n",
       "-MwWgmIKz8ZLI-S3HtAp          157  0891846aad4e869e  29.952633  30.888284   \n",
       "-MwWgmyb-JvddB_4D41K          157  0891846aad4e869e  29.952633  30.888284   \n",
       "-MwWgoX1YBF7jLDYPzHj          157  0891846aad4e869e  29.952638  30.888283   \n",
       "-MwWgpLvpj_9XZK1rza7          157  0891846aad4e869e  29.952638  30.888283   \n",
       "-MwWgqwJCVqXiZnRyYxK          157  0891846aad4e869e  29.952642  30.888282   \n",
       "\n",
       "                               snapshot_datetime destination_request_id  \n",
       "-MwWgmIKz8ZLI-S3HtAp  2022-02-22 15:51:02.869005                    NaN  \n",
       "-MwWgmyb-JvddB_4D41K  2022-02-22 15:51:05.639681                    NaN  \n",
       "-MwWgoX1YBF7jLDYPzHj  2022-02-22 15:51:12.002744                    NaN  \n",
       "-MwWgpLvpj_9XZK1rza7  2022-02-22 15:51:15.387694                    NaN  \n",
       "-MwWgqwJCVqXiZnRyYxK  2022-02-22 15:51:21.876488                    NaN  "
      ]
     },
     "execution_count": 18,
     "metadata": {},
     "output_type": "execute_result"
    }
   ],
   "source": [
    "df3 = pd.read_json(\"tagaddod-d8ffe--MwWeqpG3yuQD7G2wcp8-export.json\") \n",
    "df3 = df3.T ## to edit the format\n",
    "df3.head()"
   ]
  },
  {
   "cell_type": "code",
   "execution_count": 19,
   "id": "4d0e5a0d",
   "metadata": {},
   "outputs": [
    {
     "data": {
      "text/plain": [
       "(1719, 6)"
      ]
     },
     "execution_count": 19,
     "metadata": {},
     "output_type": "execute_result"
    }
   ],
   "source": [
    "df3.shape"
   ]
  },
  {
   "cell_type": "code",
   "execution_count": 20,
   "id": "637fafb3",
   "metadata": {},
   "outputs": [
    {
     "data": {
      "text/plain": [
       "collector_id              157.0\n",
       "device_id                   NaN\n",
       "latitude                    NaN\n",
       "longitude                   NaN\n",
       "snapshot_datetime           NaN\n",
       "destination_request_id      NaN\n",
       "Name: meta-data, dtype: object"
      ]
     },
     "execution_count": 20,
     "metadata": {},
     "output_type": "execute_result"
    }
   ],
   "source": [
    "df3.loc['meta-data',:]"
   ]
  },
  {
   "cell_type": "code",
   "execution_count": 21,
   "id": "f08257d4",
   "metadata": {},
   "outputs": [
    {
     "name": "stdout",
     "output_type": "stream",
     "text": [
      "len of snapshot date time is  1719\n",
      "len of destination_request_id is  12\n",
      "len of device_id is  2\n",
      "len of latitude is  1016\n",
      "len of longitude is  1029\n",
      "len of collector_id is  2\n"
     ]
    }
   ],
   "source": [
    "print('len of snapshot date time is ', len(df3['snapshot_datetime'].unique()) ) ## this is the primary key for each record\n",
    "print('len of destination_request_id is ', len(df3['destination_request_id'].unique()) ) \n",
    "print('len of device_id is ', len(df3['device_id'].unique()) ) \n",
    "print('len of latitude is ', len(df3['latitude'].unique()) ) \n",
    "print('len of longitude is ', len(df3['longitude'].unique()) ) \n",
    "print('len of collector_id is ', len(df3['collector_id'].unique()) )  ## 3 values but actually they are 51,51.0 and N/A\n"
   ]
  },
  {
   "cell_type": "code",
   "execution_count": 23,
   "id": "3f4e8adf",
   "metadata": {},
   "outputs": [
    {
     "name": "stdout",
     "output_type": "stream",
     "text": [
      "['0891846aad4e869e' nan]\n",
      "[nan '238062' '238079' '320684' '320649' '320657' '321656' '320668'\n",
      " '320679' '336857' '339961' '345063']\n",
      "['157' 157.0]\n",
      "['2022-02-22 15:51:02.869005' '2022-02-22 15:51:05.639681'\n",
      " '2022-02-22 15:51:12.002744' ... '2022-06-03 00:49:53.122114'\n",
      " '2022-06-03 00:49:59.771898' nan]\n"
     ]
    }
   ],
   "source": [
    "print(df3['device_id'].unique()) ## two devices and some nans and N/A\n",
    "print(df3['destination_request_id'].unique()) ## 11 values and nans\n",
    "print(df3['collector_id'].unique()) ## one value and nans \n",
    "print(df3['snapshot_datetime'].unique()) ## nan is included in the count"
   ]
  },
  {
   "cell_type": "markdown",
   "id": "1e26ae1e",
   "metadata": {},
   "source": [
    "## forth file"
   ]
  },
  {
   "cell_type": "code",
   "execution_count": 29,
   "id": "df4bf477",
   "metadata": {},
   "outputs": [
    {
     "data": {
      "text/html": [
       "<div>\n",
       "<style scoped>\n",
       "    .dataframe tbody tr th:only-of-type {\n",
       "        vertical-align: middle;\n",
       "    }\n",
       "\n",
       "    .dataframe tbody tr th {\n",
       "        vertical-align: top;\n",
       "    }\n",
       "\n",
       "    .dataframe thead th {\n",
       "        text-align: right;\n",
       "    }\n",
       "</style>\n",
       "<table border=\"1\" class=\"dataframe\">\n",
       "  <thead>\n",
       "    <tr style=\"text-align: right;\">\n",
       "      <th></th>\n",
       "      <th>collector_id</th>\n",
       "      <th>device_id</th>\n",
       "      <th>latitude</th>\n",
       "      <th>longitude</th>\n",
       "      <th>snapshot_datetime</th>\n",
       "    </tr>\n",
       "  </thead>\n",
       "  <tbody>\n",
       "    <tr>\n",
       "      <th>-N4SWCnP5uAPMk2vlgsh</th>\n",
       "      <td>257</td>\n",
       "      <td>a685f0f069042727</td>\n",
       "      <td>30.562314</td>\n",
       "      <td>31.560081</td>\n",
       "      <td>2022-06-13 16:43:17.338230</td>\n",
       "    </tr>\n",
       "    <tr>\n",
       "      <th>-N4SWDqDqUVYxPTGsEYr</th>\n",
       "      <td>257</td>\n",
       "      <td>a685f0f069042727</td>\n",
       "      <td>30.562314</td>\n",
       "      <td>31.560081</td>\n",
       "      <td>2022-06-13 16:43:21.614333</td>\n",
       "    </tr>\n",
       "    <tr>\n",
       "      <th>-N4SWFG074ZdMJm5B7h3</th>\n",
       "      <td>257</td>\n",
       "      <td>a685f0f069042727</td>\n",
       "      <td>30.562314</td>\n",
       "      <td>31.560081</td>\n",
       "      <td>2022-06-13 16:43:27.425884</td>\n",
       "    </tr>\n",
       "    <tr>\n",
       "      <th>-N4SWG6b3kT3WQxIjw_x</th>\n",
       "      <td>257</td>\n",
       "      <td>a685f0f069042727</td>\n",
       "      <td>30.562314</td>\n",
       "      <td>31.560081</td>\n",
       "      <td>2022-06-13 16:43:30.918961</td>\n",
       "    </tr>\n",
       "    <tr>\n",
       "      <th>-N4SWHi3Zq_pQl99SaVN</th>\n",
       "      <td>257</td>\n",
       "      <td>a685f0f069042727</td>\n",
       "      <td>30.562314</td>\n",
       "      <td>31.560081</td>\n",
       "      <td>2022-06-13 16:43:37.476021</td>\n",
       "    </tr>\n",
       "  </tbody>\n",
       "</table>\n",
       "</div>"
      ],
      "text/plain": [
       "                     collector_id         device_id   latitude  longitude  \\\n",
       "-N4SWCnP5uAPMk2vlgsh          257  a685f0f069042727  30.562314  31.560081   \n",
       "-N4SWDqDqUVYxPTGsEYr          257  a685f0f069042727  30.562314  31.560081   \n",
       "-N4SWFG074ZdMJm5B7h3          257  a685f0f069042727  30.562314  31.560081   \n",
       "-N4SWG6b3kT3WQxIjw_x          257  a685f0f069042727  30.562314  31.560081   \n",
       "-N4SWHi3Zq_pQl99SaVN          257  a685f0f069042727  30.562314  31.560081   \n",
       "\n",
       "                               snapshot_datetime  \n",
       "-N4SWCnP5uAPMk2vlgsh  2022-06-13 16:43:17.338230  \n",
       "-N4SWDqDqUVYxPTGsEYr  2022-06-13 16:43:21.614333  \n",
       "-N4SWFG074ZdMJm5B7h3  2022-06-13 16:43:27.425884  \n",
       "-N4SWG6b3kT3WQxIjw_x  2022-06-13 16:43:30.918961  \n",
       "-N4SWHi3Zq_pQl99SaVN  2022-06-13 16:43:37.476021  "
      ]
     },
     "execution_count": 29,
     "metadata": {},
     "output_type": "execute_result"
    }
   ],
   "source": [
    "df4 = pd.read_json(\"tagaddod-d8ffe--N4SUsENXI1OF1qf8VxT-export.json\") \n",
    "df4 = df4.T ## to edit the format\n",
    "df4.head()"
   ]
  },
  {
   "cell_type": "code",
   "execution_count": 34,
   "id": "1bed81e6",
   "metadata": {},
   "outputs": [
    {
     "data": {
      "text/plain": [
       "(84, 5)"
      ]
     },
     "execution_count": 34,
     "metadata": {},
     "output_type": "execute_result"
    }
   ],
   "source": [
    "df4.shape"
   ]
  },
  {
   "cell_type": "code",
   "execution_count": 35,
   "id": "525e3e5a",
   "metadata": {},
   "outputs": [
    {
     "data": {
      "text/plain": [
       "collector_id         257.0\n",
       "device_id              NaN\n",
       "latitude               NaN\n",
       "longitude              NaN\n",
       "snapshot_datetime      NaN\n",
       "Name: meta-data, dtype: object"
      ]
     },
     "execution_count": 35,
     "metadata": {},
     "output_type": "execute_result"
    }
   ],
   "source": [
    "df4.loc['meta-data',:]"
   ]
  },
  {
   "cell_type": "code",
   "execution_count": 31,
   "id": "b3c67c33",
   "metadata": {},
   "outputs": [
    {
     "name": "stdout",
     "output_type": "stream",
     "text": [
      "len of snapshot date time is  84\n",
      "len of device_id is  2\n",
      "len of latitude is  24\n",
      "len of longitude is  29\n",
      "len of collector_id is  2\n"
     ]
    }
   ],
   "source": [
    "print('len of snapshot date time is ', len(df4['snapshot_datetime'].unique()) ) ## this is the primary key for each record\n",
    "#print('len of destination_request_id is ', len(df4['destination_request_id'].unique()) ) \n",
    "print('len of device_id is ', len(df4['device_id'].unique()) ) \n",
    "print('len of latitude is ', len(df4['latitude'].unique()) ) \n",
    "print('len of longitude is ', len(df4['longitude'].unique()) ) \n",
    "print('len of collector_id is ', len(df4['collector_id'].unique()) )  ## 3 values but actually they are 51,51.0 and N/A\n"
   ]
  },
  {
   "cell_type": "code",
   "execution_count": 33,
   "id": "459fbad2",
   "metadata": {},
   "outputs": [
    {
     "name": "stdout",
     "output_type": "stream",
     "text": [
      "['a685f0f069042727' nan]\n",
      "['257' 257.0]\n",
      "['2022-06-13 16:43:17.338230' '2022-06-13 16:43:21.614333'\n",
      " '2022-06-13 16:43:27.425884' '2022-06-13 16:43:30.918961'\n",
      " '2022-06-13 16:43:37.476021' '2022-06-13 16:43:41.797986'\n",
      " '2022-06-13 16:43:47.439838' '2022-06-13 16:43:51.117496'\n",
      " '2022-06-13 16:43:57.306207' '2022-06-13 16:44:01.875844'\n",
      " '2022-06-13 16:44:37.986890' '2022-06-13 16:45:27.290288'\n",
      " '2022-06-13 16:45:44.368899' '2022-06-13 16:45:47.887601'\n",
      " '2022-06-13 16:45:53.267352' '2022-06-13 16:45:56.588910'\n",
      " '2022-06-13 16:46:00.233319' '2022-06-13 16:46:03.115500'\n",
      " '2022-06-13 16:46:10.037966' '2022-06-13 16:46:13.348394'\n",
      " '2022-06-13 16:46:20.735918' '2022-06-13 16:46:23.977142'\n",
      " '2022-06-13 16:46:29.365186' '2022-06-13 16:46:33.115088'\n",
      " '2022-06-13 17:44:49.285132' '2022-06-13 17:44:52.312976'\n",
      " '2022-06-13 17:44:58.533311' '2022-06-13 17:45:02.810500'\n",
      " '2022-06-13 17:45:19.094332' '2022-06-13 17:45:22.376855'\n",
      " '2022-06-13 17:45:29.230249' '2022-06-13 17:45:32.795634'\n",
      " '2022-06-13 17:45:38.667151' '2022-06-13 17:45:42.441726'\n",
      " '2022-06-13 17:45:48.986065' '2022-06-13 17:45:53.326974'\n",
      " '2022-06-13 17:46:03.147514' '2022-06-13 17:46:05.096011'\n",
      " '2022-06-13 17:46:08.217770' '2022-06-13 17:46:12.494946'\n",
      " '2022-06-13 17:46:19.825289' '2022-06-13 17:46:22.583495'\n",
      " '2022-06-13 17:46:28.815711' '2022-06-13 17:46:33.412882'\n",
      " '2022-06-13 17:46:38.645075' '2022-06-13 17:46:43.065427'\n",
      " '2022-06-13 17:46:48.023476' '2022-06-13 17:46:52.353040'\n",
      " '2022-06-13 17:46:59.634872' '2022-06-13 17:47:02.239515'\n",
      " '2022-06-13 17:47:08.585998' '2022-06-13 17:47:12.356829'\n",
      " '2022-06-13 17:47:35.726825' '2022-06-13 17:47:45.326288'\n",
      " '2022-06-13 17:47:49.215662' '2022-06-13 17:47:55.546822'\n",
      " '2022-06-13 17:47:57.897783' '2022-06-13 17:53:53.864326'\n",
      " '2022-06-13 17:53:55.319067' '2022-06-13 17:53:58.860008'\n",
      " '2022-06-13 17:54:04.927308' '2022-06-13 17:54:08.725654'\n",
      " '2022-06-13 17:54:15.575199' '2022-06-13 17:54:20.505762'\n",
      " '2022-06-13 17:54:23.907317' '2022-06-13 17:54:32.197111'\n",
      " '2022-06-13 17:54:39.786585' '2022-06-13 17:54:44.450715'\n",
      " '2022-06-13 17:54:49.572263' '2022-06-13 17:55:00.949348'\n",
      " '2022-06-13 17:55:02.278852' '2022-06-13 18:25:02.829962'\n",
      " '2022-06-13 18:25:05.485004' '2022-06-13 18:25:11.277591'\n",
      " '2022-06-13 18:25:15.624958' '2022-06-13 18:25:20.639150'\n",
      " '2022-06-13 18:25:25.414420' '2022-06-13 18:25:31.048367'\n",
      " '2022-06-13 18:25:39.247044' '2022-06-13 18:25:41.217370'\n",
      " '2022-06-13 18:25:45.574352' '2022-06-13 18:25:51.887048'\n",
      " '2022-06-13 18:25:56.465310' nan]\n"
     ]
    }
   ],
   "source": [
    "print(df4['device_id'].unique()) ## two devices and some nans and N/A\n",
    "#print(df4['destination_request_id'].unique()) ## 11 values and nans\n",
    "print(df4['collector_id'].unique()) ## one value and nans \n",
    "print(df4['snapshot_datetime'].unique()) ## nan is included in the count"
   ]
  }
 ],
 "metadata": {
  "kernelspec": {
   "display_name": "Python 3",
   "language": "python",
   "name": "python3"
  },
  "language_info": {
   "codemirror_mode": {
    "name": "ipython",
    "version": 3
   },
   "file_extension": ".py",
   "mimetype": "text/x-python",
   "name": "python",
   "nbconvert_exporter": "python",
   "pygments_lexer": "ipython3",
   "version": "3.8.8"
  }
 },
 "nbformat": 4,
 "nbformat_minor": 5
}
